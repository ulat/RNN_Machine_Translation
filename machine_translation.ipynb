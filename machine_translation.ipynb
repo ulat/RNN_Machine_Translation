{
 "cells": [
  {
   "cell_type": "markdown",
   "metadata": {
    "collapsed": true
   },
   "source": [
    "# Artificial Intelligence Nanodegree\n",
    "## Machine Translation Project\n",
    "In this notebook, sections that end with **'(IMPLEMENTATION)'** in the header indicate that the following blocks of code will require additional functionality which you must provide. Please be sure to read the instructions carefully!\n",
    "\n",
    "## Introduction\n",
    "In this notebook, you will build a deep neural network that functions as part of an end-to-end machine translation pipeline. Your completed pipeline will accept English text as input and return the French translation.\n",
    "\n",
    "- **Preprocess** - You'll convert text to sequence of integers.\n",
    "- **Models** Create models which accepts a sequence of integers as input and returns a probability distribution over possible translations. After learning about the basic types of neural networks that are often used for machine translation, you will engage in your own investigations, to design your own model!\n",
    "- **Prediction** Run the model on English text.\n",
    "\n",
    "## Dataset\n",
    "We begin by investigating the dataset that will be used to train and evaluate your pipeline.  The most common datasets used for machine translation are from [WMT](http://www.statmt.org/).  However, that will take a long time to train a neural network on.  We'll be using a dataset we created for this project that contains a small vocabulary.  You'll be able to train your model in a reasonable time with this dataset.\n",
    "### Load Data\n",
    "The data is located in `data/small_vocab_en` and `data/small_vocab_fr`. The `small_vocab_en` file contains English sentences with their French translations in the `small_vocab_fr` file. Load the English and French data from these files from running the cell below."
   ]
  },
  {
   "cell_type": "code",
   "execution_count": 1,
   "metadata": {},
   "outputs": [
    {
     "name": "stdout",
     "output_type": "stream",
     "text": [
      "Dataset Loaded\n"
     ]
    }
   ],
   "source": [
    "import helper\n",
    "\n",
    "\n",
    "# Load English data\n",
    "english_sentences = helper.load_data('data/small_vocab_en')\n",
    "# Load French data\n",
    "french_sentences = helper.load_data('data/small_vocab_fr')\n",
    "\n",
    "print('Dataset Loaded')"
   ]
  },
  {
   "cell_type": "markdown",
   "metadata": {},
   "source": [
    "### Files\n",
    "Each line in `small_vocab_en` contains an English sentence with the respective translation in each line of `small_vocab_fr`.  View the first two lines from each file."
   ]
  },
  {
   "cell_type": "code",
   "execution_count": 2,
   "metadata": {},
   "outputs": [
    {
     "name": "stdout",
     "output_type": "stream",
     "text": [
      "small_vocab_en Line 1:  new jersey is sometimes quiet during autumn , and it is snowy in april .\n",
      "small_vocab_fr Line 1:  new jersey est parfois calme pendant l' automne , et il est neigeux en avril .\n",
      "small_vocab_en Line 2:  the united states is usually chilly during july , and it is usually freezing in november .\n",
      "small_vocab_fr Line 2:  les états-unis est généralement froid en juillet , et il gèle habituellement en novembre .\n"
     ]
    }
   ],
   "source": [
    "for sample_i in range(2):\n",
    "    print('small_vocab_en Line {}:  {}'.format(sample_i + 1, english_sentences[sample_i]))\n",
    "    print('small_vocab_fr Line {}:  {}'.format(sample_i + 1, french_sentences[sample_i]))"
   ]
  },
  {
   "cell_type": "markdown",
   "metadata": {},
   "source": [
    "From looking at the sentences, you can see they have been preprocessed already.  The puncuations have been delimited using spaces. All the text have been converted to lowercase.  This should save you some time, but the text requires more preprocessing.\n",
    "### Vocabulary\n",
    "The complexity of the problem is determined by the complexity of the vocabulary.  A more complex vocabulary is a more complex problem.  Let's look at the complexity of the dataset we'll be working with."
   ]
  },
  {
   "cell_type": "code",
   "execution_count": 3,
   "metadata": {},
   "outputs": [
    {
     "name": "stdout",
     "output_type": "stream",
     "text": [
      "1823250 English words.\n",
      "227 unique English words.\n",
      "10 Most common words in the English dataset:\n",
      "\"is\" \",\" \".\" \"in\" \"it\" \"during\" \"the\" \"but\" \"and\" \"sometimes\"\n",
      "\n",
      "1961295 French words.\n",
      "355 unique French words.\n",
      "10 Most common words in the French dataset:\n",
      "\"est\" \".\" \",\" \"en\" \"il\" \"les\" \"mais\" \"et\" \"la\" \"parfois\"\n"
     ]
    }
   ],
   "source": [
    "import collections\n",
    "\n",
    "\n",
    "english_words_counter = collections.Counter([word for sentence in english_sentences for word in sentence.split()])\n",
    "french_words_counter = collections.Counter([word for sentence in french_sentences for word in sentence.split()])\n",
    "\n",
    "print('{} English words.'.format(len([word for sentence in english_sentences for word in sentence.split()])))\n",
    "print('{} unique English words.'.format(len(english_words_counter)))\n",
    "print('10 Most common words in the English dataset:')\n",
    "print('\"' + '\" \"'.join(list(zip(*english_words_counter.most_common(10)))[0]) + '\"')\n",
    "print()\n",
    "print('{} French words.'.format(len([word for sentence in french_sentences for word in sentence.split()])))\n",
    "print('{} unique French words.'.format(len(french_words_counter)))\n",
    "print('10 Most common words in the French dataset:')\n",
    "print('\"' + '\" \"'.join(list(zip(*french_words_counter.most_common(10)))[0]) + '\"')"
   ]
  },
  {
   "cell_type": "markdown",
   "metadata": {},
   "source": [
    "For comparison, _Alice's Adventures in Wonderland_ contains 2,766 unique words of a total of 15,500 words.\n",
    "## Preprocess\n",
    "For this project, you won't use text data as input to your model. Instead, you'll convert the text into sequences of integers using the following preprocess methods:\n",
    "1. Tokenize the words into ids\n",
    "2. Add padding to make all the sequences the same length.\n",
    "\n",
    "Time to start preprocessing the data...\n",
    "### Tokenize (IMPLEMENTATION)\n",
    "For a neural network to predict on text data, it first has to be turned into data it can understand. Text data like \"dog\" is a sequence of ASCII character encodings.  Since a neural network is a series of multiplication and addition operations, the input data needs to be number(s).\n",
    "\n",
    "We can turn each character into a number or each word into a number.  These are called character and word ids, respectively.  Character ids are used for character level models that generate text predictions for each character.  A word level model uses word ids that generate text predictions for each word.  Word level models tend to learn better, since they are lower in complexity, so we'll use those.\n",
    "\n",
    "Turn each sentence into a sequence of words ids using Keras's [`Tokenizer`](https://keras.io/preprocessing/text/#tokenizer) function. Use this function to tokenize `english_sentences` and `french_sentences` in the cell below.\n",
    "\n",
    "Running the cell will run `tokenize` on sample data and show output for debugging."
   ]
  },
  {
   "cell_type": "code",
   "execution_count": 4,
   "metadata": {},
   "outputs": [
    {
     "name": "stderr",
     "output_type": "stream",
     "text": [
      "Using TensorFlow backend.\n"
     ]
    },
    {
     "name": "stdout",
     "output_type": "stream",
     "text": [
      "{'the': 1, 'quick': 2, 'a': 3, 'brown': 4, 'fox': 5, 'jumps': 6, 'over': 7, 'lazy': 8, 'dog': 9, 'by': 10, 'jove': 11, 'my': 12, 'study': 13, 'of': 14, 'lexicography': 15, 'won': 16, 'prize': 17, 'this': 18, 'is': 19, 'short': 20, 'sentence': 21}\n",
      "\n",
      "Sequence 1 in x\n",
      "  Input:  The quick brown fox jumps over the lazy dog .\n",
      "  Output: [1, 2, 4, 5, 6, 7, 1, 8, 9]\n",
      "Sequence 2 in x\n",
      "  Input:  By Jove , my quick study of lexicography won a prize .\n",
      "  Output: [10, 11, 12, 2, 13, 14, 15, 16, 3, 17]\n",
      "Sequence 3 in x\n",
      "  Input:  This is a short sentence .\n",
      "  Output: [18, 19, 3, 20, 21]\n"
     ]
    }
   ],
   "source": [
    "import project_tests as tests\n",
    "from keras.preprocessing.text import Tokenizer\n",
    "\n",
    "\n",
    "def tokenize(x):\n",
    "    \"\"\"\n",
    "    Tokenize x\n",
    "    :param x: List of sentences/strings to be tokenized\n",
    "    :return: Tuple of (tokenized x data, tokenizer used to tokenize x)\n",
    "    \"\"\"\n",
    "    # TODO: Implement\n",
    "    tokenizer = Tokenizer()\n",
    "    tokenizer.fit_on_texts(x)\n",
    "    words = tokenizer.texts_to_sequences(x)\n",
    "    return words, tokenizer\n",
    "tests.test_tokenize(tokenize)\n",
    "\n",
    "# Tokenize Example output\n",
    "text_sentences = [\n",
    "    'The quick brown fox jumps over the lazy dog .',\n",
    "    'By Jove , my quick study of lexicography won a prize .',\n",
    "    'This is a short sentence .']\n",
    "text_tokenized, text_tokenizer = tokenize(text_sentences)\n",
    "print(text_tokenizer.word_index)\n",
    "print()\n",
    "for sample_i, (sent, token_sent) in enumerate(zip(text_sentences, text_tokenized)):\n",
    "    print('Sequence {} in x'.format(sample_i + 1))\n",
    "    print('  Input:  {}'.format(sent))\n",
    "    print('  Output: {}'.format(token_sent))"
   ]
  },
  {
   "cell_type": "markdown",
   "metadata": {},
   "source": [
    "### Padding (IMPLEMENTATION)\n",
    "When batching the sequence of word ids together, each sequence needs to be the same length.  Since sentences are dynamic in length, we can add padding to the end of the sequences to make them the same length.\n",
    "\n",
    "Make sure all the English sequences have the same length and all the French sequences have the same length by adding padding to the **end** of each sequence using Keras's [`pad_sequences`](https://keras.io/preprocessing/sequence/#pad_sequences) function."
   ]
  },
  {
   "cell_type": "code",
   "execution_count": 5,
   "metadata": {},
   "outputs": [
    {
     "name": "stdout",
     "output_type": "stream",
     "text": [
      "Sequence 1 in x\n",
      "  Input:  [1 2 4 5 6 7 1 8 9]\n",
      "  Output: [1 2 4 5 6 7 1 8 9 0]\n",
      "Sequence 2 in x\n",
      "  Input:  [10 11 12  2 13 14 15 16  3 17]\n",
      "  Output: [10 11 12  2 13 14 15 16  3 17]\n",
      "Sequence 3 in x\n",
      "  Input:  [18 19  3 20 21]\n",
      "  Output: [18 19  3 20 21  0  0  0  0  0]\n"
     ]
    }
   ],
   "source": [
    "import numpy as np\n",
    "from keras.preprocessing.sequence import pad_sequences\n",
    "\n",
    "\n",
    "def pad(x, length=None):\n",
    "    \"\"\"\n",
    "    Pad x\n",
    "    :param x: List of sequences.\n",
    "    :param length: Length to pad the sequence to.  If None, use length of longest sequence in x.\n",
    "    :return: Padded numpy array of sequences\n",
    "    \"\"\"\n",
    "    #max_length = len(max(x, key=len))\n",
    "    #print(max_length, length)\n",
    "    padded_seqs = pad_sequences(x, maxlen=length, padding='post')\n",
    "    \n",
    "    return padded_seqs\n",
    "tests.test_pad(pad)\n",
    "\n",
    "# Pad Tokenized output\n",
    "test_pad = pad(text_tokenized)\n",
    "for sample_i, (token_sent, pad_sent) in enumerate(zip(text_tokenized, test_pad)):\n",
    "    print('Sequence {} in x'.format(sample_i + 1))\n",
    "    print('  Input:  {}'.format(np.array(token_sent)))\n",
    "    print('  Output: {}'.format(pad_sent))"
   ]
  },
  {
   "cell_type": "markdown",
   "metadata": {},
   "source": [
    "### Preprocess Pipeline\n",
    "Your focus for this project is to build neural network architecture, so we won't ask you to create a preprocess pipeline.  Instead, we've provided you with the implementation of the `preprocess` function."
   ]
  },
  {
   "cell_type": "code",
   "execution_count": 6,
   "metadata": {},
   "outputs": [
    {
     "name": "stdout",
     "output_type": "stream",
     "text": [
      "Data Preprocessed\n"
     ]
    }
   ],
   "source": [
    "def preprocess(x, y):\n",
    "    \"\"\"\n",
    "    Preprocess x and y\n",
    "    :param x: Feature List of sentences\n",
    "    :param y: Label List of sentences\n",
    "    :return: Tuple of (Preprocessed x, Preprocessed y, x tokenizer, y tokenizer)\n",
    "    \"\"\"\n",
    "    preprocess_x, x_tk = tokenize(x)\n",
    "    preprocess_y, y_tk = tokenize(y)\n",
    "\n",
    "    preprocess_x = pad(preprocess_x)\n",
    "    preprocess_y = pad(preprocess_y)\n",
    "\n",
    "    # Keras's sparse_categorical_crossentropy function requires the labels to be in 3 dimensions\n",
    "    preprocess_y = preprocess_y.reshape(*preprocess_y.shape, 1)\n",
    "\n",
    "    return preprocess_x, preprocess_y, x_tk, y_tk\n",
    "\n",
    "preproc_english_sentences, preproc_french_sentences, english_tokenizer, french_tokenizer =\\\n",
    "    preprocess(english_sentences, french_sentences)\n",
    "\n",
    "print('Data Preprocessed')"
   ]
  },
  {
   "cell_type": "markdown",
   "metadata": {},
   "source": [
    "## Models\n",
    "In this section, you will experiment with various neural network architectures.\n",
    "You will begin by training four relatively simple architectures.\n",
    "- Model 1 is a simple RNN\n",
    "- Model 2 is a RNN with Embedding\n",
    "- Model 3 is a Bidirectional RNN\n",
    "- Model 4 is an optional Encoder-Decoder RNN\n",
    "\n",
    "After experimenting with the four simple architectures, you will construct a deeper architecture that is designed to outperform all four models.\n",
    "### Ids Back to Text\n",
    "The neural network will be translating the input to words ids, which isn't the final form we want.  We want the French translation.  The function `logits_to_text` will bridge the gab between the logits from the neural network to the French translation.  You'll be using this function to better understand the output of the neural network."
   ]
  },
  {
   "cell_type": "code",
   "execution_count": 7,
   "metadata": {},
   "outputs": [
    {
     "name": "stdout",
     "output_type": "stream",
     "text": [
      "`logits_to_text` function loaded.\n"
     ]
    }
   ],
   "source": [
    "def logits_to_text(logits, tokenizer):\n",
    "    \"\"\"\n",
    "    Turn logits from a neural network into text using the tokenizer\n",
    "    :param logits: Logits from a neural network\n",
    "    :param tokenizer: Keras Tokenizer fit on the labels\n",
    "    :return: String that represents the text of the logits\n",
    "    \"\"\"\n",
    "    index_to_words = {id: word for word, id in tokenizer.word_index.items()}\n",
    "    index_to_words[0] = '<PAD>'\n",
    "\n",
    "    return ' '.join([index_to_words[prediction] for prediction in np.argmax(logits, 1)])\n",
    "\n",
    "print('`logits_to_text` function loaded.')"
   ]
  },
  {
   "cell_type": "markdown",
   "metadata": {},
   "source": [
    "### Model 1: RNN (IMPLEMENTATION)\n",
    "![RNN](images/rnn.png)\n",
    "A basic RNN model is a good baseline for sequence data.  In this model, you'll build a RNN that translates English to French."
   ]
  },
  {
   "cell_type": "markdown",
   "metadata": {},
   "source": [
    "--> https://machinelearningmastery.com/timedistributed-layer-for-long-short-term-memory-networks-in-python/\n",
    "\n",
    "There are two key points to remember when using the TimeDistributed wrapper layer:\n",
    "\n",
    "  - The input must be (at least) 3D. This often means that you will need to configure your last LSTM layer prior to your TimeDistributed wrapped Dense layer to return sequences (e.g. set the “return_sequences” argument to “True”).\n",
    "  - The output will be 3D. This means that if your TimeDistributed wrapped Dense layer is your output layer and you are predicting a sequence, you will need to resize your y array into a 3D vector.\n",
    "   "
   ]
  },
  {
   "cell_type": "code",
   "execution_count": 8,
   "metadata": {},
   "outputs": [
    {
     "name": "stdout",
     "output_type": "stream",
     "text": [
      "Train on 110288 samples, validate on 27573 samples\n",
      "Epoch 1/10\n",
      "110288/110288 [==============================] - 9s - loss: 4.8022 - acc: 0.3798 - val_loss: 3.2725 - val_acc: 0.4548\n",
      "Epoch 2/10\n",
      "110288/110288 [==============================] - 9s - loss: 2.8530 - acc: 0.4488 - val_loss: 2.6604 - val_acc: 0.4594\n",
      "Epoch 3/10\n",
      "110288/110288 [==============================] - 9s - loss: 2.6057 - acc: 0.4620 - val_loss: 2.5463 - val_acc: 0.4691\n",
      "Epoch 4/10\n",
      "110288/110288 [==============================] - 9s - loss: 2.5146 - acc: 0.4732 - val_loss: 2.4711 - val_acc: 0.4740\n",
      "Epoch 5/10\n",
      "110288/110288 [==============================] - 9s - loss: 2.4469 - acc: 0.4803 - val_loss: 2.4084 - val_acc: 0.4876\n",
      "Epoch 6/10\n",
      "110288/110288 [==============================] - 9s - loss: 2.3856 - acc: 0.4843 - val_loss: 2.3480 - val_acc: 0.4902\n",
      "Epoch 7/10\n",
      "110288/110288 [==============================] - 9s - loss: 2.3293 - acc: 0.4884 - val_loss: 2.2939 - val_acc: 0.4910\n",
      "Epoch 8/10\n",
      "110288/110288 [==============================] - 9s - loss: 2.2784 - acc: 0.4920 - val_loss: 2.2424 - val_acc: 0.4960\n",
      "Epoch 9/10\n",
      "110288/110288 [==============================] - 9s - loss: 2.2239 - acc: 0.4997 - val_loss: 2.1787 - val_acc: 0.5075\n",
      "Epoch 10/10\n",
      "110288/110288 [==============================] - 9s - loss: 2.1633 - acc: 0.5122 - val_loss: 2.1140 - val_acc: 0.5207\n",
      "la les est est est en en en est est en est en <PAD> <PAD> <PAD> <PAD> <PAD> <PAD> <PAD> <PAD>\n"
     ]
    }
   ],
   "source": [
    "from keras.layers import GRU, Input, Dense, TimeDistributed\n",
    "from keras.models import Model\n",
    "from keras.layers import Activation\n",
    "from keras.optimizers import Adam\n",
    "from keras.losses import sparse_categorical_crossentropy\n",
    "\n",
    "\n",
    "def simple_model(input_shape, output_sequence_length, english_vocab_size, french_vocab_size):\n",
    "    \"\"\"\n",
    "    Build and train a basic RNN on x and y\n",
    "    :param input_shape: Tuple of input shape\n",
    "    :param output_sequence_length: Length of output sequence\n",
    "    :param english_vocab_size: Number of unique English words in the dataset\n",
    "    :param french_vocab_size: Number of unique French words in the dataset\n",
    "    :return: Keras model built, but not trained\n",
    "    \"\"\"\n",
    "    # params:\n",
    "    learning_rate = 0.001\n",
    "    recurr_dropout = 0.1\n",
    "    return_seq = True\n",
    "    # TODO: Build the layers\n",
    "    input_layer = Input(shape=input_shape[1:])\n",
    "    gru_layer = GRU(output_sequence_length, recurrent_dropout=recurr_dropout, return_sequences=return_seq)(input_layer)    \n",
    "    output_layer = TimeDistributed(Dense(french_vocab_size, activation='softmax'))(gru_layer)\n",
    "    model = Model(inputs=input_layer, outputs=output_layer)\n",
    "    model.compile(loss=sparse_categorical_crossentropy,\n",
    "                  optimizer=Adam(learning_rate),\n",
    "                  metrics=['accuracy'])\n",
    "    return model\n",
    "tests.test_simple_model(simple_model)\n",
    "\n",
    "\n",
    "# Reshaping the input to work with a basic RNN\n",
    "tmp_x = pad(preproc_english_sentences, preproc_french_sentences.shape[1])\n",
    "tmp_x = tmp_x.reshape((-1, preproc_french_sentences.shape[-2], 1))\n",
    "\n",
    "# Train the neural network\n",
    "simple_rnn_model = simple_model(\n",
    "    tmp_x.shape,\n",
    "    preproc_french_sentences.shape[1],\n",
    "    len(english_tokenizer.word_index)+1,\n",
    "    len(french_tokenizer.word_index)+1)\n",
    "simple_rnn_model.fit(tmp_x, preproc_french_sentences, batch_size=1024, epochs=10, validation_split=0.2)\n",
    "\n",
    "# Print prediction(s)\n",
    "print(logits_to_text(simple_rnn_model.predict(tmp_x[:1])[0], french_tokenizer))"
   ]
  },
  {
   "cell_type": "markdown",
   "metadata": {},
   "source": [
    "### Model 2: Embedding (IMPLEMENTATION)\n",
    "![RNN](images/embedding.png)\n",
    "You've turned the words into ids, but there's a better representation of a word.  This is called word embeddings.  An embedding is a vector representation of the word that is close to similar words in n-dimensional space, where the n represents the size of the embedding vectors.\n",
    "\n",
    "In this model, you'll create a RNN model using embedding."
   ]
  },
  {
   "cell_type": "code",
   "execution_count": 9,
   "metadata": {
    "scrolled": true
   },
   "outputs": [
    {
     "name": "stdout",
     "output_type": "stream",
     "text": [
      "_________________________________________________________________\n",
      "Layer (type)                 Output Shape              Param #   \n",
      "=================================================================\n",
      "input_3 (InputLayer)         (None, 21)                0         \n",
      "_________________________________________________________________\n",
      "embedding_1 (Embedding)      (None, 21, 64)            12736     \n",
      "_________________________________________________________________\n",
      "gru_3 (GRU)                  (None, 21, 21)            5418      \n",
      "_________________________________________________________________\n",
      "time_distributed_3 (TimeDist (None, 21, 344)           7568      \n",
      "=================================================================\n",
      "Total params: 25,722\n",
      "Trainable params: 25,722\n",
      "Non-trainable params: 0\n",
      "_________________________________________________________________\n",
      "None\n",
      "_________________________________________________________________\n",
      "Layer (type)                 Output Shape              Param #   \n",
      "=================================================================\n",
      "input_4 (InputLayer)         (None, 21)                0         \n",
      "_________________________________________________________________\n",
      "embedding_2 (Embedding)      (None, 21, 64)            12800     \n",
      "_________________________________________________________________\n",
      "gru_4 (GRU)                  (None, 21, 21)            5418      \n",
      "_________________________________________________________________\n",
      "time_distributed_4 (TimeDist (None, 21, 345)           7590      \n",
      "=================================================================\n",
      "Total params: 25,808\n",
      "Trainable params: 25,808\n",
      "Non-trainable params: 0\n",
      "_________________________________________________________________\n",
      "None\n",
      "Train on 110288 samples, validate on 27573 samples\n",
      "Epoch 1/10\n",
      "110288/110288 [==============================] - 9s - loss: 4.5163 - acc: 0.4030 - val_loss: 3.2493 - val_acc: 0.4093\n",
      "Epoch 2/10\n",
      "110288/110288 [==============================] - 9s - loss: 3.1235 - acc: 0.4096 - val_loss: 2.9643 - val_acc: 0.4094\n",
      "Epoch 3/10\n",
      "110288/110288 [==============================] - 9s - loss: 2.6865 - acc: 0.4407 - val_loss: 2.4045 - val_acc: 0.5182\n",
      "Epoch 4/10\n",
      "110288/110288 [==============================] - 9s - loss: 2.1712 - acc: 0.5541 - val_loss: 1.9201 - val_acc: 0.6043\n",
      "Epoch 5/10\n",
      "110288/110288 [==============================] - 9s - loss: 1.7415 - acc: 0.6286 - val_loss: 1.5733 - val_acc: 0.6462\n",
      "Epoch 6/10\n",
      "110288/110288 [==============================] - 9s - loss: 1.4763 - acc: 0.6545 - val_loss: 1.3677 - val_acc: 0.6683\n",
      "Epoch 7/10\n",
      "110288/110288 [==============================] - 9s - loss: 1.3023 - acc: 0.6765 - val_loss: 1.2208 - val_acc: 0.6875\n",
      "Epoch 8/10\n",
      "110288/110288 [==============================] - 9s - loss: 1.1819 - acc: 0.6907 - val_loss: 1.1208 - val_acc: 0.6984\n",
      "Epoch 9/10\n",
      "110288/110288 [==============================] - 9s - loss: 1.0973 - acc: 0.7013 - val_loss: 1.0460 - val_acc: 0.7096\n",
      "Epoch 10/10\n",
      "110288/110288 [==============================] - 9s - loss: 1.0328 - acc: 0.7124 - val_loss: 0.9861 - val_acc: 0.7235\n",
      "new jersey est parfois calme en l' l' et il de est avril avril <PAD> <PAD> <PAD> <PAD> <PAD> <PAD> <PAD>\n"
     ]
    }
   ],
   "source": [
    "from keras.layers.embeddings import Embedding\n",
    "\n",
    "\n",
    "def embed_model(input_shape, output_sequence_length, english_vocab_size, french_vocab_size):\n",
    "    \"\"\"\n",
    "    Build and train a RNN model using word embedding on x and y\n",
    "    :param input_shape: Tuple of input shape\n",
    "    :param output_sequence_length: Length of output sequence\n",
    "    :param english_vocab_size: Number of unique English words in the dataset\n",
    "    :param french_vocab_size: Number of unique French words in the dataset\n",
    "    :return: Keras model built, but not trained\n",
    "    \"\"\"\n",
    "    # params:\n",
    "    learning_rate = 0.001\n",
    "    recurr_dropout = 0.1\n",
    "    return_seq = True\n",
    "\n",
    "    input_layer = Input(shape=input_shape[1:])\n",
    "    embedding_layer = Embedding(english_vocab_size, 64)(input_layer)\n",
    "    gru_layer = GRU(output_sequence_length, \n",
    "                    recurrent_dropout=recurr_dropout, \n",
    "                    return_sequences=return_seq)(embedding_layer)\n",
    "    output_layer = TimeDistributed(Dense(french_vocab_size, activation='softmax'))(gru_layer)\n",
    "    \n",
    "    model = Model(inputs=input_layer, outputs=output_layer)\n",
    "    model.compile(loss=sparse_categorical_crossentropy,\n",
    "                  optimizer=Adam(learning_rate),\n",
    "                  metrics=['accuracy'])\n",
    "    print(model.summary())        \n",
    "    return model\n",
    "\n",
    "tests.test_embed_model(embed_model)\n",
    "\n",
    "\n",
    "# Reshape the input\n",
    "tmp_x = pad(preproc_english_sentences, preproc_french_sentences.shape[1])\n",
    "#tmp_x = tmp_x.reshape((-1, preproc_french_sentences.shape[-2], 1))\n",
    "\n",
    "# Train the neural network\n",
    "embedding_rnn_model = embed_model(tmp_x.shape, \n",
    "                                   preproc_french_sentences.shape[1],\n",
    "                                   len(english_tokenizer.word_index)+1,\n",
    "                                   len(french_tokenizer.word_index)+1)\n",
    "embedding_rnn_model.fit(tmp_x, preproc_french_sentences, batch_size=1024, epochs=10, validation_split=0.2)\n",
    "\n",
    "# Print prediction(s)\n",
    "print(logits_to_text(embedding_rnn_model.predict(tmp_x[:1])[0], french_tokenizer))"
   ]
  },
  {
   "cell_type": "markdown",
   "metadata": {},
   "source": [
    "### Model 3: Bidirectional RNNs (IMPLEMENTATION)\n",
    "![RNN](images/bidirectional.png)\n",
    "One restriction of a RNN is that it can't see the future input, only the past.  This is where bidirectional recurrent neural networks come in.  They are able to see the future data."
   ]
  },
  {
   "cell_type": "code",
   "execution_count": 10,
   "metadata": {
    "scrolled": true
   },
   "outputs": [
    {
     "name": "stdout",
     "output_type": "stream",
     "text": [
      "Train on 110288 samples, validate on 27573 samples\n",
      "Epoch 1/10\n",
      "110288/110288 [==============================] - 13s - loss: 4.3339 - acc: 0.4204 - val_loss: 2.7908 - val_acc: 0.4655\n",
      "Epoch 2/10\n",
      "110288/110288 [==============================] - 12s - loss: 2.5970 - acc: 0.4791 - val_loss: 2.4591 - val_acc: 0.4860\n",
      "Epoch 3/10\n",
      "110288/110288 [==============================] - 12s - loss: 2.3789 - acc: 0.4907 - val_loss: 2.2880 - val_acc: 0.5054\n",
      "Epoch 4/10\n",
      "110288/110288 [==============================] - 12s - loss: 2.2266 - acc: 0.5084 - val_loss: 2.1438 - val_acc: 0.5168\n",
      "Epoch 5/10\n",
      "110288/110288 [==============================] - 12s - loss: 2.0892 - acc: 0.5231 - val_loss: 2.0094 - val_acc: 0.5362\n",
      "Epoch 6/10\n",
      "110288/110288 [==============================] - 12s - loss: 1.9694 - acc: 0.5458 - val_loss: 1.8957 - val_acc: 0.5645\n",
      "Epoch 7/10\n",
      "110288/110288 [==============================] - 12s - loss: 1.8681 - acc: 0.5607 - val_loss: 1.7999 - val_acc: 0.5682\n",
      "Epoch 8/10\n",
      "110288/110288 [==============================] - 12s - loss: 1.7833 - acc: 0.5695 - val_loss: 1.7213 - val_acc: 0.5799\n",
      "Epoch 9/10\n",
      "110288/110288 [==============================] - 12s - loss: 1.7147 - acc: 0.5793 - val_loss: 1.6591 - val_acc: 0.5920\n",
      "Epoch 10/10\n",
      "110288/110288 [==============================] - 12s - loss: 1.6607 - acc: 0.5889 - val_loss: 1.6100 - val_acc: 0.5976\n",
      "new jersey est est jamais en en et il est est en en <PAD> <PAD> <PAD> <PAD> <PAD> <PAD> <PAD> <PAD>\n"
     ]
    }
   ],
   "source": [
    "from keras.layers import Bidirectional\n",
    "\n",
    "\n",
    "def bd_model(input_shape, output_sequence_length, english_vocab_size, french_vocab_size):\n",
    "    \"\"\"\n",
    "    Build and train a bidirectional RNN model on x and y\n",
    "    :param input_shape: Tuple of input shape\n",
    "    :param output_sequence_length: Length of output sequence\n",
    "    :param english_vocab_size: Number of unique English words in the dataset\n",
    "    :param french_vocab_size: Number of unique French words in the dataset\n",
    "    :return: Keras model built, but not trained\n",
    "    \"\"\"    \n",
    "    # params:\n",
    "    learning_rate = 0.001\n",
    "    recurr_dropout = 0.1\n",
    "    return_seq = True\n",
    "    \n",
    "    input_layer = Input(shape=input_shape[1:])\n",
    "    #embedding_layer = Embedding(english_vocab_size, english_vocab_size)(input_layer)\n",
    "    \n",
    "    bidirectional_gru_layer = Bidirectional(GRU(output_sequence_length, \n",
    "                                                recurrent_dropout=recurr_dropout, \n",
    "                                                return_sequences=return_seq))(input_layer)\n",
    "    output_layer = TimeDistributed(Dense(french_vocab_size, activation='softmax'))(bidirectional_gru_layer)\n",
    "    model = Model(inputs=input_layer, outputs=output_layer)\n",
    "    model.compile(loss=sparse_categorical_crossentropy, optimizer=Adam(learning_rate), metrics=['accuracy'])\n",
    "    return model\n",
    "\n",
    "tests.test_bd_model(bd_model)\n",
    "\n",
    "# Train and Print prediction(s)\n",
    "# Reshaping Input\n",
    "tmp_x = pad(preproc_english_sentences, preproc_french_sentences.shape[1])\n",
    "tmp_x = tmp_x.reshape((-1, preproc_french_sentences.shape[-2], 1))\n",
    "\n",
    "# Training the neural network\n",
    "bd_rnn_model = bd_model(tmp_x.shape,\n",
    "                        preproc_french_sentences.shape[1],\n",
    "                        len(english_tokenizer.word_index) + 1,\n",
    "                        len(french_tokenizer.word_index) + 1)\n",
    "\n",
    "bd_rnn_model.fit(tmp_x, preproc_french_sentences, batch_size=1024, epochs=10, validation_split=0.2)\n",
    "\n",
    "# Printing predictions\n",
    "print(logits_to_text(bd_rnn_model.predict(tmp_x[:1])[0], french_tokenizer))"
   ]
  },
  {
   "cell_type": "markdown",
   "metadata": {},
   "source": [
    "### Model 5: Custom (IMPLEMENTATION)\n",
    "Use everything you learned from the previous models to create a model that incorporates embedding and a bidirectional rnn into one model."
   ]
  },
  {
   "cell_type": "code",
   "execution_count": 12,
   "metadata": {},
   "outputs": [
    {
     "name": "stdout",
     "output_type": "stream",
     "text": [
      "_________________________________________________________________\n",
      "Layer (type)                 Output Shape              Param #   \n",
      "=================================================================\n",
      "input_9 (InputLayer)         (None, 15)                0         \n",
      "_________________________________________________________________\n",
      "embedding_3 (Embedding)      (None, 15, 64)            12736     \n",
      "_________________________________________________________________\n",
      "bidirectional_3 (Bidirection (None, 1024)              1772544   \n",
      "_________________________________________________________________\n",
      "repeat_vector_3 (RepeatVecto (None, 21, 1024)          0         \n",
      "_________________________________________________________________\n",
      "bidirectional_4 (Bidirection (None, 21, 1024)          4721664   \n",
      "_________________________________________________________________\n",
      "time_distributed_9 (TimeDist (None, 21, 1032)          1057800   \n",
      "_________________________________________________________________\n",
      "time_distributed_10 (TimeDis (None, 21, 344)           355352    \n",
      "=================================================================\n",
      "Total params: 7,920,096\n",
      "Trainable params: 7,920,096\n",
      "Non-trainable params: 0\n",
      "_________________________________________________________________\n",
      "None\n",
      "Final Model Loaded\n"
     ]
    }
   ],
   "source": [
    "def model_final(input_shape, output_sequence_length, english_vocab_size, french_vocab_size):\n",
    "    \"\"\"\n",
    "    Build and train a model that incorporates embedding, encoder-decoder, and bidirectional RNN on x and y\n",
    "    :param input_shape: Tuple of input shape\n",
    "    :param output_sequence_length: Length of output sequence\n",
    "    :param english_vocab_size: Number of unique English words in the dataset\n",
    "    :param french_vocab_size: Number of unique French words in the dataset\n",
    "    :return: Keras model built, but not trained\n",
    "    \"\"\"\n",
    "    # params:\n",
    "    learning_rate = 0.001\n",
    "    recurr_dropout = 0.4\n",
    "    dropout = 0.4\n",
    "    return_seq = True\n",
    "    gru_size = 512\n",
    "    \n",
    "    input_layer = Input(shape=input_shape[1:])\n",
    "    embedding_layer = Embedding(english_vocab_size, 64)(input_layer)\n",
    "    \n",
    "    bidirectional1_gru_layer = Bidirectional(GRU(gru_size,\n",
    "                                                 dropout=dropout,\n",
    "                                                 recurrent_dropout=recurr_dropout)\n",
    "                                            )(embedding_layer)\n",
    "    repeat_vector_layer = RepeatVector(output_sequence_length)(bidirectional1_gru_layer)\n",
    "    bidirectional2_gru_layer = Bidirectional(GRU(gru_size,\n",
    "                                                 dropout=dropout,\n",
    "                                                 recurrent_dropout=recurr_dropout,\n",
    "                                                return_sequences=return_seq)\n",
    "                                            )(repeat_vector_layer)\n",
    "    dense_layer = TimeDistributed(Dense(french_vocab_size*3, activation='relu'))(bidirectional2_gru_layer)\n",
    "    output_layer = TimeDistributed(Dense(french_vocab_size, activation='softmax'))(dense_layer)\n",
    "    model = Model(inputs=input_layer, outputs=output_layer)\n",
    "    model.compile(loss=sparse_categorical_crossentropy, optimizer=Adam(learning_rate), metrics=['accuracy'])\n",
    "    print(model.summary())\n",
    "    return model\n",
    "\n",
    "tests.test_model_final(model_final)\n",
    "\n",
    "\n",
    "print('Final Model Loaded')"
   ]
  },
  {
   "cell_type": "markdown",
   "metadata": {},
   "source": [
    "## Prediction (IMPLEMENTATION)"
   ]
  },
  {
   "cell_type": "code",
   "execution_count": 13,
   "metadata": {
    "collapsed": true
   },
   "outputs": [],
   "source": [
    "from keras.callbacks import ModelCheckpoint, EarlyStopping\n",
    "# Train and save model\n",
    "def train_model(model, x, y, save_path, batch_size=512, epochs=100, validation_split=0.2):\n",
    "    # Reserve/specify some training data for validation (not to be used for training)\n",
    "    checkpoint = ModelCheckpoint(filepath=save_path, \n",
    "                                 monitor='val_loss',\n",
    "                                 save_best_only=True, \n",
    "                                 verbose=1)\n",
    "    earlystop = EarlyStopping(monitor='val_loss', patience=5)    \n",
    "    model.fit(x, y, batch_size=batch_size, epochs=epochs, validation_split=validation_split, callbacks=[checkpoint, earlystop], verbose=2)"
   ]
  },
  {
   "cell_type": "code",
   "execution_count": 20,
   "metadata": {
    "scrolled": false
   },
   "outputs": [
    {
     "name": "stdout",
     "output_type": "stream",
     "text": [
      "_________________________________________________________________\n",
      "Layer (type)                 Output Shape              Param #   \n",
      "=================================================================\n",
      "input_16 (InputLayer)        (None, 21)                0         \n",
      "_________________________________________________________________\n",
      "embedding_10 (Embedding)     (None, 21, 64)            12800     \n",
      "_________________________________________________________________\n",
      "bidirectional_17 (Bidirectio (None, 1024)              1772544   \n",
      "_________________________________________________________________\n",
      "repeat_vector_10 (RepeatVect (None, 21, 1024)          0         \n",
      "_________________________________________________________________\n",
      "bidirectional_18 (Bidirectio (None, 21, 1024)          4721664   \n",
      "_________________________________________________________________\n",
      "time_distributed_23 (TimeDis (None, 21, 1035)          1060875   \n",
      "_________________________________________________________________\n",
      "time_distributed_24 (TimeDis (None, 21, 345)           357420    \n",
      "=================================================================\n",
      "Total params: 7,925,303\n",
      "Trainable params: 7,925,303\n",
      "Non-trainable params: 0\n",
      "_________________________________________________________________\n",
      "None\n",
      "Train on 110288 samples, validate on 27573 samples\n",
      "Epoch 1/10\n",
      "Epoch 00000: val_loss improved from inf to 1.48938, saving model to trainded_model.h5\n",
      "221s - loss: 2.3639 - acc: 0.5012 - val_loss: 1.4894 - val_acc: 0.6096\n",
      "Epoch 2/10\n",
      "Epoch 00001: val_loss improved from 1.48938 to 1.15757, saving model to trainded_model.h5\n",
      "216s - loss: 1.3705 - acc: 0.6286 - val_loss: 1.1576 - val_acc: 0.6829\n",
      "Epoch 3/10\n",
      "Epoch 00002: val_loss improved from 1.15757 to 1.09517, saving model to trainded_model.h5\n",
      "216s - loss: 1.1707 - acc: 0.6706 - val_loss: 1.0952 - val_acc: 0.6923\n",
      "Epoch 4/10\n",
      "Epoch 00003: val_loss improved from 1.09517 to 0.94699, saving model to trainded_model.h5\n",
      "216s - loss: 1.0632 - acc: 0.6941 - val_loss: 0.9470 - val_acc: 0.7273\n",
      "Epoch 5/10\n",
      "Epoch 00004: val_loss improved from 0.94699 to 0.87163, saving model to trainded_model.h5\n",
      "216s - loss: 0.9845 - acc: 0.7128 - val_loss: 0.8716 - val_acc: 0.7438\n",
      "Epoch 6/10\n",
      "Epoch 00005: val_loss improved from 0.87163 to 0.79093, saving model to trainded_model.h5\n",
      "216s - loss: 0.9033 - acc: 0.7321 - val_loss: 0.7909 - val_acc: 0.7657\n",
      "Epoch 7/10\n",
      "Epoch 00006: val_loss improved from 0.79093 to 0.70991, saving model to trainded_model.h5\n",
      "216s - loss: 0.8267 - acc: 0.7521 - val_loss: 0.7099 - val_acc: 0.7855\n",
      "Epoch 8/10\n",
      "Epoch 00007: val_loss improved from 0.70991 to 0.60389, saving model to trainded_model.h5\n",
      "216s - loss: 0.7293 - acc: 0.7774 - val_loss: 0.6039 - val_acc: 0.8154\n",
      "Epoch 9/10\n",
      "Epoch 00008: val_loss improved from 0.60389 to 0.52064, saving model to trainded_model.h5\n",
      "216s - loss: 0.6413 - acc: 0.8015 - val_loss: 0.5206 - val_acc: 0.8425\n",
      "Epoch 10/10\n",
      "Epoch 00009: val_loss improved from 0.52064 to 0.43918, saving model to trainded_model.h5\n",
      "216s - loss: 0.5676 - acc: 0.8229 - val_loss: 0.4392 - val_acc: 0.8685\n",
      "Sample 1:\n",
      "il a vu un gros camion jaune <PAD> <PAD> <PAD> <PAD> <PAD> <PAD> <PAD> <PAD> <PAD> <PAD> <PAD> <PAD> <PAD> <PAD>\n",
      "Il a vu un vieux camion jaune\n",
      "Sample 2:\n",
      "new jersey est parfois calme en cours et il est il en en avril <PAD> <PAD> <PAD> <PAD> <PAD> <PAD> <PAD>\n",
      "<PAD> <PAD> <PAD> <PAD> <PAD> <PAD> <PAD> <PAD> <PAD> <PAD> <PAD> <PAD> <PAD> <PAD> <PAD> <PAD> <PAD> <PAD> <PAD> <PAD> <PAD>\n"
     ]
    }
   ],
   "source": [
    "import numpy as np\n",
    "from keras.preprocessing.sequence import pad_sequences\n",
    "\n",
    "\n",
    "def final_predictions(x, y, x_tk, y_tk):\n",
    "    \"\"\"\n",
    "    Gets predictions using the final model\n",
    "    :param x: Preprocessed English data\n",
    "    :param y: Preprocessed French data\n",
    "    :param x_tk: English tokenizer\n",
    "    :param y_tk: French tokenizer\n",
    "    \"\"\"\n",
    "    # Train neural network using model_final\n",
    "    model_path =\"trainded_model.h5\"\n",
    "    \n",
    "    x = pad(x, y.shape[1])\n",
    "    # build and train model\n",
    "    model = model_final(x.shape, y.shape[1], len(x_tk.word_index) + 1, len(y_tk.word_index) + 1)\n",
    "    train_model(model, x, y, model_path, batch_size=768, epochs=10)\n",
    "    \n",
    "    ## DON'T EDIT ANYTHING BELOW THIS LINE\n",
    "    y_id_to_word = {value: key for key, value in y_tk.word_index.items()}\n",
    "    y_id_to_word[0] = '<PAD>'\n",
    "\n",
    "    sentence = 'he saw a old yellow truck'\n",
    "    sentence = [x_tk.word_index[word] for word in sentence.split()]\n",
    "    sentence = pad_sequences([sentence], maxlen=x.shape[-1], padding='post')\n",
    "    sentences = np.array([sentence[0], x[0]])\n",
    "    predictions = model.predict(sentences, len(sentences))\n",
    "\n",
    "    print('Sample 1:')\n",
    "    print(' '.join([y_id_to_word[np.argmax(x)] for x in predictions[0]]))\n",
    "    print('Il a vu un vieux camion jaune')\n",
    "    print('Sample 2:')\n",
    "    print(' '.join([y_id_to_word[np.argmax(x)] for x in predictions[1]]))\n",
    "    print(' '.join([y_id_to_word[np.argmax(x)] for x in y[0]]))\n",
    "\n",
    "\n",
    "final_predictions(preproc_english_sentences, preproc_french_sentences, english_tokenizer, french_tokenizer)"
   ]
  },
  {
   "cell_type": "markdown",
   "metadata": {},
   "source": [
    "## Submission\n",
    "When you are ready to submit your project, do the following steps:\n",
    "1. Ensure you pass all points on the [rubric](https://review.udacity.com/#!/rubrics/1004/view).\n",
    "2. Submit the following in a zip file.\n",
    "  - `helper.py`\n",
    "  - `machine_translation.ipynb`\n",
    "  - `machine_translation.html`\n",
    "    - You can export the notebook by navigating to **File -> Download as -> HTML (.html)**."
   ]
  }
 ],
 "metadata": {
  "kernelspec": {
   "display_name": "Python 3",
   "language": "python",
   "name": "python3"
  },
  "language_info": {
   "codemirror_mode": {
    "name": "ipython",
    "version": 3
   },
   "file_extension": ".py",
   "mimetype": "text/x-python",
   "name": "python",
   "nbconvert_exporter": "python",
   "pygments_lexer": "ipython3",
   "version": "3.5.4"
  }
 },
 "nbformat": 4,
 "nbformat_minor": 1
}
